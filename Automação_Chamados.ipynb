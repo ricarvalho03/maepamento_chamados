{
 "cells": [
  {
   "cell_type": "code",
   "execution_count": 16,
   "id": "a2f5eb5a",
   "metadata": {},
   "outputs": [],
   "source": [
    "from selenium import webdriver\n",
    "from selenium.webdriver.chrome.service import Service\n",
    "from webdriver_manager.chrome import ChromeDriverManager\n",
    "from selenium.webdriver.common.by import By\n",
    "from selenium.webdriver.chrome.options import Options\n",
    "from selenium.webdriver.common.action_chains import ActionChains\n",
    "from selenium.webdriver.support.ui import WebDriverWait\n",
    "from selenium.webdriver.support import expected_conditions as EC\n",
    "import time\n",
    "from datetime import datetime\n",
    "import pandas as pd\n",
    "import os\n",
    "import subprocess"
   ]
  },
  {
   "cell_type": "code",
   "execution_count": 17,
   "id": "df993411",
   "metadata": {},
   "outputs": [],
   "source": [
    "# Caminho para o chromedriver, se não estiver no PATH\n",
    "caminho_driver = r\"C:\\WebDriver\\bin\\chromedriver.exe\"  # Altere se necessário\n",
    "\n",
    "# Configuração do navegador\n",
    "options = Options()\n",
    "#options.add_argument(\"--start-maximized\")\n",
    "options.add_argument(\"--headless=new\")  # Versão nova do modo headless\n",
    "options.add_argument(\"--window-size=1920,1080\")\n",
    "options.add_argument(\"--disable-gpu\")\n",
    "options.add_argument(\"--no-sandbox\")\n",
    "\n",
    "# Inicia o navegador\n",
    "service = Service(caminho_driver)\n",
    "driver = webdriver.Chrome(service=service, options=options)\n",
    "\n",
    "# Acessa o Google\n",
    "driver.get(\"https://viavarejo.service-now.com/nav_to.do?uri=%2Fsc_task_list.do%3Fsysparm_query%3Dopened_atONThis%20year@javascript:gs.beginningOfThisYear()@javascript:gs.endOfThisYear()%26sysparm_first_row%3D1%26sysparm_view%3Dcsc%26sysparm_fixed_query%3Dassignment_groupDYNAMICd6435e965f510100a9ad2572f2b47744%5EEQ\")"
   ]
  },
  {
   "cell_type": "code",
   "execution_count": 18,
   "id": "b0e8e153",
   "metadata": {},
   "outputs": [],
   "source": [
    "time.sleep(3)\n",
    "\n",
    "# Preenche o e-mail ou usuário\n",
    "driver.find_element(By.ID, \"i0116\").send_keys(\"ricardo.carvalho@viavarejo.com.br\")\n",
    "\n",
    "# Clica no botão \"Avançar\"\n",
    "driver.find_element(By.ID, \"idSIButton9\").click()"
   ]
  },
  {
   "cell_type": "code",
   "execution_count": 19,
   "id": "096961db",
   "metadata": {},
   "outputs": [],
   "source": [
    "time.sleep(3)\n",
    "\n",
    "# Preenche a senha fixa\n",
    "senha = \"@Rcs'0101\"\n",
    "driver.find_element(By.ID, \"i0118\").send_keys(senha)\n",
    "driver.find_element(By.ID, \"idSIButton9\").click()"
   ]
  },
  {
   "cell_type": "code",
   "execution_count": 20,
   "id": "103ae65f",
   "metadata": {},
   "outputs": [],
   "source": [
    "time.sleep(3)\n",
    "driver.find_element(By.ID, \"KmsiCheckboxField\").click()\n",
    "driver.find_element(By.ID, \"idSIButton9\").click()"
   ]
  },
  {
   "cell_type": "code",
   "execution_count": 21,
   "id": "b660f9bf",
   "metadata": {},
   "outputs": [
    {
     "name": "stdout",
     "output_type": "stream",
     "text": [
      "✅ Switched para o iframe.\n",
      "🖱️ Clique com botão direito no cabeçalho 'Pai' realizado.\n"
     ]
    }
   ],
   "source": [
    "time.sleep(2)\n",
    "# 1. Trocar para o iframe que contém a tabela\n",
    "iframe = driver.find_element(By.TAG_NAME, \"iframe\")\n",
    "driver.switch_to.frame(iframe)\n",
    "print(\"✅ Switched para o iframe.\")\n",
    "\n",
    "# 2. Achar o cabeçalho \"Pai\"\n",
    "elemento_pai = driver.find_element(By.XPATH, \"//a[contains(text(), 'Pai')]\")\n",
    "\n",
    "# 3. Clicar com o botão direito\n",
    "actions = ActionChains(driver)\n",
    "actions.context_click(elemento_pai).perform()\n",
    "\n",
    "print(\"🖱️ Clique com botão direito no cabeçalho 'Pai' realizado.\")"
   ]
  },
  {
   "cell_type": "code",
   "execution_count": 22,
   "id": "8eaaeec1",
   "metadata": {},
   "outputs": [
    {
     "name": "stdout",
     "output_type": "stream",
     "text": [
      "✅ Clique no 'Exportar' realizado com sucesso.\n"
     ]
    }
   ],
   "source": [
    "# Clicar no botão \"Exportar\"\n",
    "try:\n",
    "    exportar_btn = WebDriverWait(driver, 10).until(\n",
    "        EC.element_to_be_clickable((By.XPATH, \"//div[@data-context-menu-label='Exportar']\"))\n",
    "    )\n",
    "    exportar_btn.click()\n",
    "    print(\"✅ Clique no 'Exportar' realizado com sucesso.\")\n",
    "except Exception as e:\n",
    "    print(f\"⚠️ Erro ao clicar no botão Exportar: {e}\")"
   ]
  },
  {
   "cell_type": "code",
   "execution_count": 23,
   "id": "c9b91218",
   "metadata": {},
   "outputs": [
    {
     "name": "stdout",
     "output_type": "stream",
     "text": [
      "✅ Clique em 'CSV' realizado com sucesso.\n"
     ]
    }
   ],
   "source": [
    "# Clica na opção \"CSV\"\n",
    "try:\n",
    "    csv_opcao = driver.find_element(By.XPATH, \"//div[text()='CSV']\")\n",
    "    driver.execute_script(\"arguments[0].click();\", csv_opcao)\n",
    "    print(\"✅ Clique em 'CSV' realizado com sucesso.\")\n",
    "except Exception as e:\n",
    "    print(f\"⚠️ Erro ao clicar em 'CSV': {e}\")"
   ]
  },
  {
   "cell_type": "code",
   "execution_count": 24,
   "id": "5cc83590",
   "metadata": {},
   "outputs": [
    {
     "name": "stdout",
     "output_type": "stream",
     "text": [
      "✅ Clique em 'Baixar' realizado com sucesso.\n"
     ]
    }
   ],
   "source": [
    "# Espera até o botão 'Baixar' ficar visível e clicável\n",
    "try:\n",
    "    btn_baixar = WebDriverWait(driver, 50).until(\n",
    "        EC.element_to_be_clickable((By.ID, \"download_button\"))\n",
    "    )\n",
    "    driver.execute_script(\"arguments[0].click();\", btn_baixar)\n",
    "    print(\"✅ Clique em 'Baixar' realizado com sucesso.\")\n",
    "except Exception as e:\n",
    "    print(f\"⚠️ Erro ao clicar no botão Baixar: {e}\")"
   ]
  },
  {
   "cell_type": "code",
   "execution_count": 25,
   "id": "edb39825",
   "metadata": {},
   "outputs": [
    {
     "name": "stderr",
     "output_type": "stream",
     "text": [
      "C:\\Users\\2160038357\\AppData\\Local\\Temp\\ipykernel_24548\\1795842702.py:11: FutureWarning: DataFrame.applymap has been deprecated. Use DataFrame.map instead.\n",
      "  df = df.applymap(lambda x: x.replace('\\n', ' ').replace('\\r', ' ') if isinstance(x, str) else x)\n"
     ]
    }
   ],
   "source": [
    "#Aguarda 2 segundos para o download do CSV\n",
    "time.sleep(10)\n",
    "\n",
    "# Tratativa do csv\n",
    "\n",
    "# Lê o arquivo CSV\n",
    "caminho_csv = r\"C:\\Users\\2160038357\\Downloads\\sc_task.csv\"\n",
    "df = pd.read_csv(caminho_csv, encoding='latin1', dtype=str)\n",
    "\n",
    "# Remove quebras de linha\n",
    "df = df.applymap(lambda x: x.replace('\\n', ' ').replace('\\r', ' ') if isinstance(x, str) else x)\n",
    "\n",
    "# Renomeia as colunas\n",
    "df.rename(columns={\n",
    "        \"parent\" : \"numero_chamado\",\n",
    "        \"number\" : \"numero_scta\",\n",
    "        \"opened_at\" : \"data_hora_abertura\",\n",
    "        \"assignment_group\" : \"grupo_designado\",\n",
    "        \"parent.due_date\" : \"data_prazo\",\n",
    "        \"u_resolved_at\" : \"data_solucao\",\n",
    "        \"u_resolved_by\" : \"resolvido_por_base\",\n",
    "        \"u_resolved_by.user_name\" : \"cd_fun_setor\",\n",
    "        \"request_item.cat_item\" : \"setor_destinado\",\n",
    "        \"opened_by\" : \"aberto_por\",\n",
    "        \"u_requested_for\" : \"solicitado_para\",\n",
    "        \"u_requested_for.user_name\" : \"cd_fun_solicitado\",\n",
    "        \"state\" : \"situacao\",\n",
    "        \"close_notes\" : \"ds_chamado\",\n",
    "        \"closed_at\" : \"data_encerramento\",\n",
    "        \"business_service\" : \"tipo_servico\",\n",
    "        \"service_offering\" : \"oferta_servico\",\n",
    "        \"closed_by\" : \"encerrado_por\"        \n",
    "        }, inplace=True)"
   ]
  },
  {
   "cell_type": "code",
   "execution_count": 26,
   "id": "1e5bcee5",
   "metadata": {},
   "outputs": [],
   "source": [
    "# Fecha o navegador\n",
    "driver.quit()"
   ]
  },
  {
   "cell_type": "code",
   "execution_count": 27,
   "id": "c1a5b98d",
   "metadata": {},
   "outputs": [
    {
     "name": "stdout",
     "output_type": "stream",
     "text": [
      "✅ Arquivo limpo e salvo novamente com sucesso.\n"
     ]
    }
   ],
   "source": [
    "# Salva CSV limpo (sobrescrevendo)\n",
    "df.to_csv(caminho_csv, index=False, encoding='latin1', quoting=1)\n",
    "print(\"✅ Arquivo limpo e salvo novamente com sucesso.\")"
   ]
  },
  {
   "cell_type": "code",
   "execution_count": 28,
   "id": "02b4c900",
   "metadata": {},
   "outputs": [
    {
     "name": "stdout",
     "output_type": "stream",
     "text": [
      "✅ Arquivo CSV enviado com sucesso para o DBFS: dbfs:/FileStore/Controladoria_RicardoCarvalho/sc_task.csv\n"
     ]
    }
   ],
   "source": [
    "# Envia o arquivo para o DBFS do Databricks\n",
    "\n",
    "# Caminho da pasta local onde está o arquivo CSV\n",
    "\n",
    "\n",
    "# Caminho de destino no DBFS\n",
    "pasta_dbfs = \"dbfs:/FileStore/Controladoria_RicardoCarvalho\"\n",
    "arquivo_dbfs = f\"{pasta_dbfs}/sc_task.csv\"\n",
    "\n",
    "# Cria a pasta no DBFS (caso ainda não exista)\n",
    "comando_mkdir = [\n",
    "    \"databricks\", \"fs\", \"mkdirs\", pasta_dbfs, \"--profile\", \"meu_databricks\"\n",
    "]\n",
    "subprocess.run(comando_mkdir, capture_output=True, text=True)\n",
    "\n",
    "# Faz upload do arquivo CSV\n",
    "comando_upload = [\n",
    "    \"databricks\", \"fs\", \"cp\", caminho_csv, arquivo_dbfs,\n",
    "    \"--overwrite\", \"--profile\", \"meu_databricks\"\n",
    "]\n",
    "resultado = subprocess.run(comando_upload, capture_output=True)\n",
    "\n",
    "# Verifica o resultado do upload\n",
    "if resultado.returncode == 0:\n",
    "    print(f\"✅ Arquivo CSV enviado com sucesso para o DBFS: {arquivo_dbfs}\")\n",
    "else:\n",
    "    print(\"❌ Erro ao enviar arquivo CSV para o DBFS:\")\n",
    "    print(resultado.stderr.decode('utf-8', errors='replace'))"
   ]
  },
  {
   "cell_type": "code",
   "execution_count": 29,
   "id": "f434d939",
   "metadata": {},
   "outputs": [
    {
     "name": "stdout",
     "output_type": "stream",
     "text": [
      "✅ Arquivo excluído: C:\\Users\\2160038357\\Downloads\\sc_task.csv\n"
     ]
    }
   ],
   "source": [
    "#Exclui arquivo nos donwloads\n",
    "\n",
    "# Verifica se o arquivo existe e exclui\n",
    "if os.path.exists(caminho_csv):\n",
    "    os.remove(caminho_csv)\n",
    "    print(f\"✅ Arquivo excluído: {caminho_csv}\")\n",
    "else:\n",
    "    print(f\"⚠️ Arquivo não encontrado: {caminho_csv}\")"
   ]
  }
 ],
 "metadata": {
  "kernelspec": {
   "display_name": "Python 3",
   "language": "python",
   "name": "python3"
  },
  "language_info": {
   "codemirror_mode": {
    "name": "ipython",
    "version": 3
   },
   "file_extension": ".py",
   "mimetype": "text/x-python",
   "name": "python",
   "nbconvert_exporter": "python",
   "pygments_lexer": "ipython3",
   "version": "3.13.2"
  }
 },
 "nbformat": 4,
 "nbformat_minor": 5
}
